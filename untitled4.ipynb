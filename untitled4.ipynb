{
  "nbformat": 4,
  "nbformat_minor": 0,
  "metadata": {
    "colab": {
      "provenance": [],
      "authorship_tag": "ABX9TyN/ztmpVO3JPsCqsccANFXl",
      "include_colab_link": true
    },
    "kernelspec": {
      "name": "python3",
      "display_name": "Python 3"
    },
    "language_info": {
      "name": "python"
    }
  },
  "cells": [
    {
      "cell_type": "markdown",
      "metadata": {
        "id": "view-in-github",
        "colab_type": "text"
      },
      "source": [
        "<a href=\"https://colab.research.google.com/github/HebertCesar/04-07-2024/blob/main/untitled4.ipynb\" target=\"_parent\"><img src=\"https://colab.research.google.com/assets/colab-badge.svg\" alt=\"Open In Colab\"/></a>"
      ]
    },
    {
      "cell_type": "code",
      "source": [
        "def verificar_idade():\n",
        "    nome = input(\"Digite seu nome: \")\n",
        "    ano_nascimento = int(input(\"Digite seu ano de nascimento: \"))\n",
        "\n",
        "    # Calculando a idade com base no ano atual\n",
        "    import datetime\n",
        "    ano_atual = datetime.datetime.now().year\n",
        "    idade = ano_atual - ano_nascimento\n",
        "\n",
        "    if idade < 18:\n",
        "        print(\"Desculpe, você é menor de idade e não pode continuar.\")\n",
        "    else:\n",
        "        escolaridade = input(\"Digite sua escolaridade (Ensino Médio completo ou Ensino Superior completo): \")\n",
        "\n",
        "        if escolaridade.lower() == \"ensino médio completo\":\n",
        "            print(\"Ótimo! Aqui estão algumas opções de cursos superiores para você considerar:\")\n",
        "            print(\"- Engenharia Civil\")\n",
        "            print(\"- Administração de Empresas\")\n",
        "            print(\"- Ciência da Computação\")\n",
        "        elif escolaridade.lower() == \"ensino superior completo\":\n",
        "            print(\"Ótimo! Aqui estão algumas opções de pós-graduação para você considerar:\")\n",
        "            print(\"- MBA em Gestão de Projetos\")\n",
        "            print(\"- Mestrado em Ciência de Dados\")\n",
        "            print(\"- Especialização em Direito Tributário\")\n",
        "        else:\n",
        "            print(\"Escolaridade não reconhecida. Por favor, digite 'Ensino Médio completo' ou 'Ensino Superior completo'.\")\n",
        "\n",
        "# Chamando a função para execução\n",
        "verificar_idade()\n"
      ],
      "metadata": {
        "colab": {
          "base_uri": "https://localhost:8080/"
        },
        "id": "e_U2s9vxExF1",
        "outputId": "c9407c15-aced-41b2-9d15-77f94fb31b5f"
      },
      "execution_count": null,
      "outputs": [
        {
          "output_type": "stream",
          "name": "stdout",
          "text": [
            "Digite seu nome: Hebert\n",
            "Digite seu ano de nascimento: 1997\n",
            "Digite sua escolaridade (Ensino Médio completo ou Ensino Superior completo): Ensino Superior completo\n",
            "Ótimo! Aqui estão algumas opções de pós-graduação para você considerar:\n",
            "- MBA em Gestão de Projetos\n",
            "- Mestrado em Ciência de Dados\n",
            "- Especialização em Direito Tributário\n"
          ]
        }
      ]
    }
  ]
}
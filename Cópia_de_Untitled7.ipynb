{
  "nbformat": 4,
  "nbformat_minor": 0,
  "metadata": {
    "colab": {
      "provenance": [],
      "authorship_tag": "ABX9TyN80jBStkm7xkQmseff2sD7",
      "include_colab_link": true
    },
    "kernelspec": {
      "name": "python3",
      "display_name": "Python 3"
    },
    "language_info": {
      "name": "python"
    }
  },
  "cells": [
    {
      "cell_type": "markdown",
      "metadata": {
        "id": "view-in-github",
        "colab_type": "text"
      },
      "source": [
        "<a href=\"https://colab.research.google.com/github/HebertCesar/04-07-2024/blob/main/C%C3%B3pia_de_Untitled7.ipynb\" target=\"_parent\"><img src=\"https://colab.research.google.com/assets/colab-badge.svg\" alt=\"Open In Colab\"/></a>"
      ]
    },
    {
      "cell_type": "code",
      "execution_count": null,
      "metadata": {
        "id": "bVfWDft_L33o"
      },
      "outputs": [],
      "source": [
        "import math\n",
        "\n",
        "def calcular_area_circulo(raio):\n",
        "    \"\"\"Calcula a área de um círculo dado o raio.\"\"\"\n",
        "    return math.pi * (raio ** 2)\n",
        "\n",
        "def calcular_area_retangulo(comprimento, largura):\n",
        "    \"\"\"Calcula a área de um retângulo dado o comprimento e a largura.\"\"\"\n",
        "    return comprimento * largura\n",
        "\n",
        "def calcular_area_triangulo(base, altura):\n",
        "    \"\"\"Calcula a área de um triângulo dado a base e a altura.\"\"\"\n",
        "    return (base * altura) / 2\n",
        "\n",
        "# Exemplo de uso das funções\n",
        "if __name__ == \"__main__\":\n",
        "    raio = float(input(\"Digite o raio do círculo: \"))\n",
        "    print(f\"A área do círculo é: {calcular_area_circulo(raio):.2f} unidades quadradas\")\n",
        "\n",
        "    comprimento = float(input(\"Digite o comprimento do retângulo: \"))\n",
        "    largura = float(input(\"Digite a largura do retângulo: \"))\n",
        "    print(f\"A área do retângulo é: {calcular_area_retangulo(comprimento, largura):.2f} unidades quadradas\")\n",
        "\n",
        "    base = float(input(\"Digite a base do triângulo: \"))\n",
        "    altura = float(input(\"Digite a altura do triângulo: \"))\n",
        "    print(f\"A área do triângulo é: {calcular_area_triangulo(base, altura):.2f} unidades quadradas\")\n"
      ]
    }
  ]
}
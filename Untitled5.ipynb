{
  "nbformat": 4,
  "nbformat_minor": 0,
  "metadata": {
    "colab": {
      "provenance": [],
      "authorship_tag": "ABX9TyNeTuWKouKcFsxE1GTbLxlN",
      "include_colab_link": true
    },
    "kernelspec": {
      "name": "python3",
      "display_name": "Python 3"
    },
    "language_info": {
      "name": "python"
    }
  },
  "cells": [
    {
      "cell_type": "markdown",
      "metadata": {
        "id": "view-in-github",
        "colab_type": "text"
      },
      "source": [
        "<a href=\"https://colab.research.google.com/github/HebertCesar/04-07-2024/blob/main/Untitled5.ipynb\" target=\"_parent\"><img src=\"https://colab.research.google.com/assets/colab-badge.svg\" alt=\"Open In Colab\"/></a>"
      ]
    },
    {
      "cell_type": "code",
      "execution_count": 3,
      "metadata": {
        "colab": {
          "base_uri": "https://localhost:8080/"
        },
        "id": "GqLE5imrHOl-",
        "outputId": "c382a643-a782-4b38-d541-ced8541d9b6c"
      },
      "outputs": [
        {
          "output_type": "stream",
          "name": "stdout",
          "text": [
            "Digite o primeiro número: 0.1\n",
            "Digite o segundo número: 1.15\n",
            "Selecione a operação que deseja realizar:\n",
            "1 - Soma\n",
            "2 - Subtração\n",
            "3 - Multiplicação\n",
            "4 - Divisão\n",
            "Digite o número da operação desejada (1/2/3/4): 1\n",
            "A soma de 0.1 + 1.15 é igual a 1.25\n"
          ]
        }
      ],
      "source": [
        "def calcular():\n",
        "    num1 = float(input(\"Digite o primeiro número: \"))\n",
        "    num2 = float(input(\"Digite o segundo número: \"))\n",
        "\n",
        "    print(\"Selecione a operação que deseja realizar:\")\n",
        "    print(\"1 - Soma\")\n",
        "    print(\"2 - Subtração\")\n",
        "    print(\"3 - Multiplicação\")\n",
        "    print(\"4 - Divisão\")\n",
        "\n",
        "    escolha = input(\"Digite o número da operação desejada (1/2/3/4): \")\n",
        "\n",
        "    if escolha == '1':\n",
        "        resultado = num1 + num2\n",
        "        print(f\"A soma de {num1} + {num2} é igual a {resultado}\")\n",
        "    elif escolha == '2':\n",
        "        resultado = num1 - num2\n",
        "        print(f\"A subtração de {num1} - {num2} é igual a {resultado}\")\n",
        "    elif escolha == '3':\n",
        "        resultado = num1 * num2\n",
        "        print(f\"A multiplicação de {num1} * {num2} é igual a {resultado}\")\n",
        "    elif escolha == '4':\n",
        "        if num2 != 0:\n",
        "            resultado = num1 / num2\n",
        "            print(f\"A divisão de {num1} / {num2} é igual a {resultado}\")\n",
        "        else:\n",
        "            print(\"Erro: divisão por zero não é permitida.\")\n",
        "    else:\n",
        "        print(\"Opção inválida. Por favor, escolha uma operação válida.\")\n",
        "\n",
        "# Chamando a função para execução\n",
        "calcular()\n"
      ]
    }
  ]
}